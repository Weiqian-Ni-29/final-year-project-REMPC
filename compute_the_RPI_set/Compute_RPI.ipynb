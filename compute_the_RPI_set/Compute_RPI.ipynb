{
 "cells": [
  {
   "cell_type": "code",
   "execution_count": 1,
   "metadata": {},
   "outputs": [],
   "source": [
    "# import dependencies\n",
    "using Polyhedra\n",
    "using GLPK\n",
    "using JuMP\n",
    "using Plots\n",
    "using LinearAlgebra"
   ]
  },
  {
   "cell_type": "code",
   "execution_count": 5,
   "metadata": {},
   "outputs": [
    {
     "name": "stdout",
     "output_type": "stream",
     "text": [
      "S = [0.8114058 -0.0019401199999999996; 2.050134849999999 -0.004892790000000202]\n"
     ]
    },
    {
     "data": {
      "text/plain": [
       "2-element Vector{Float64}:\n",
       " 9.261508100614525e-6\n",
       " 0.8065037484918991"
      ]
     },
     "execution_count": 5,
     "metadata": {},
     "output_type": "execute_result"
    }
   ],
   "source": [
    "# choose a system to run\n",
    "# System 1\n",
    "A = [0.7776 -0.0045; 26.6185 1.8555];\n",
    "B = [-0.0004; 0.2907];\n",
    "K = [-84.5145 -6.3997];\n",
    "#K = [-0.6609 -1.3261];\n",
    "S = A + B * K\n",
    "@show S\n",
    "eigvals(S)"
   ]
  },
  {
   "cell_type": "code",
   "execution_count": 2,
   "metadata": {},
   "outputs": [
    {
     "name": "stdout",
     "output_type": "stream",
     "text": [
      "S = [0.66955 0.33694999999999997; -0.6609 -0.32610000000000006]\n"
     ]
    },
    {
     "data": {
      "text/plain": [
       "2-element Vector{Float64}:\n",
       " 0.013170669800537993\n",
       " 0.330279330199462"
      ]
     },
     "execution_count": 2,
     "metadata": {},
     "output_type": "execute_result"
    }
   ],
   "source": [
    "# choose a system to run\n",
    "# system 2\n",
    "A = [1 1; 0 1];\n",
    "B = [0.5; 1];\n",
    "K = [-0.6609 -1.3261];\n",
    "S = A + B * K\n",
    "@show S\n",
    "eigvals(S)"
   ]
  },
  {
   "cell_type": "code",
   "execution_count": 3,
   "metadata": {},
   "outputs": [
    {
     "name": "stdout",
     "output_type": "stream",
     "text": [
      "Wv = vrep([[x, y] for x = [-1, 1] for y = [-1, 1]]) = convexhull([-1, -1], [-1, 1], [1, -1], [1, 1])\n",
      "W = polyhedron(Wv, lib) = convexhull([-1.0, -1.0], [-1.0, 1.0], [1.0, -1.0], [1.0, 1.0])\n"
     ]
    },
    {
     "data": {
      "text/plain": [
       "Fs (generic function with 2 methods)"
      ]
     },
     "execution_count": 3,
     "metadata": {},
     "output_type": "execute_result"
    }
   ],
   "source": [
    "@show Wv = vrep([[x, y] for x in [-1, 1] for y in [-1,1]]) # put the disturbance boundaries here\n",
    "lib = DefaultLibrary{Float64}(GLPK.Optimizer)\n",
    "@show W = polyhedron(Wv, lib)\n",
    "function Fs(s::Integer, verbose=1)\n",
    "    @assert s ≥ 1\n",
    "    F = W\n",
    "    A_W = W\n",
    "    for i in 1:(s-1)\n",
    "        A_W = S * A_W\n",
    "        F += A_W\n",
    "        if verbose ≥ 1\n",
    "            println(\"Number of points after adding A^$i * W: \", npoints(F))\n",
    "        end\n",
    "        removevredundancy!(F)\n",
    "        if verbose ≥ 1\n",
    "            println(\"Number of points after removing redundant ones: \", npoints(F))\n",
    "        end\n",
    "    end\n",
    "    return F\n",
    "end"
   ]
  },
  {
   "cell_type": "code",
   "execution_count": 4,
   "metadata": {},
   "outputs": [
    {
     "name": "stdout",
     "output_type": "stream",
     "text": [
      "Number of points after adding A^1 * W: 16\n",
      "Number of points after removing redundant ones: 8\n",
      "Number of points after adding A^2 * W: 32\n",
      "Number of points after removing redundant ones: 12\n",
      "Number of points after adding A^3 * W: 48\n",
      "Number of points after removing redundant ones: 16\n",
      "Number of points after adding A^4 * W: 64\n",
      "Number of points after removing redundant ones: 18\n",
      "Number of points after adding A^5 * W: 72\n",
      "Number of points after removing redundant ones: 18\n",
      "Number of points after adding A^6 * W: 72\n",
      "Number of points after removing redundant ones: 18\n",
      "Number of points after adding A^7 * W: 72\n",
      "Number of points after removing redundant ones: 18\n",
      "Number of points after adding A^8 * W: 72\n",
      "Number of points after removing redundant ones: 18\n",
      "Number of points after adding A^9 * W: 72\n",
      "Number of points after removing redundant ones: 18\n",
      "  3.620696 seconds (9.35 M allocations: 608.352 MiB, 5.26% gc time, 99.37% compilation time)\n"
     ]
    },
    {
     "data": {
      "text/plain": [
       "Polyhedron DefaultPolyhedron{Float64, Polyhedra.Intersection{Float64, Vector{Float64}, Int64}, Polyhedra.Hull{Float64, Vector{Float64}, Int64}}:\n",
       "18-element iterator of Vector{Float64}:\n",
       " [0.5162691080984935, -2.499927257828653]\n",
       " [-0.15763089190150648, -1.8477272578286534]\n",
       " [-1.496730891901506, -0.5259272578286533]\n",
       " [-1.7281818469015062, -0.29322916782865344]\n",
       " [-2.1793957419015064, 0.16074304217134647]\n",
       " [-2.2679541659194067, 0.24990682370091913]\n",
       " [-2.4170984931571566, 0.40007374922541916]\n",
       " [-2.5162691080984936, 0.49992725782865355]\n",
       " [-2.5162691080984936, 2.499927257828653]\n",
       " [-0.5162691080984935, 2.499927257828653]\n",
       " [0.15763089190150648, 1.8477272578286534]\n",
       " [1.496730891901506, 0.5259272578286533]\n",
       " [1.7281818469015062, 0.29322916782865344]\n",
       " [2.1793957419015064, -0.16074304217134647]\n",
       " [2.2679541659194067, -0.24990682370091913]\n",
       " [2.4170984931571566, -0.40007374922541916]\n",
       " [2.5162691080984936, -0.49992725782865355]\n",
       " [2.5162691080984936, -2.499927257828653]"
      ]
     },
     "execution_count": 4,
     "metadata": {},
     "output_type": "execute_result"
    }
   ],
   "source": [
    "@time Fs(10) # run to get the vertices of the polygon\n",
    "# the vertices are put into make_RPI_set.m to make the polygon in matlab"
   ]
  },
  {
   "cell_type": "code",
   "execution_count": 5,
   "metadata": {},
   "outputs": [
    {
     "data": {
      "image/svg+xml": "<?xml version=\"1.0\" encoding=\"utf-8\"?>\n<svg xmlns=\"http://www.w3.org/2000/svg\" xmlns:xlink=\"http://www.w3.org/1999/xlink\" width=\"600\" height=\"400\" viewBox=\"0 0 2400 1600\">\n<defs>\n  <clipPath id=\"clip610\">\n    <rect x=\"0\" y=\"0\" width=\"2400\" height=\"1600\"/>\n  </clipPath>\n</defs>\n<path clip-path=\"url(#clip610)\" d=\"\nM0 1600 L2400 1600 L2400 0 L0 0  Z\n  \" fill=\"#ffffff\" fill-rule=\"evenodd\" fill-opacity=\"1\"/>\n<defs>\n  <clipPath id=\"clip611\">\n    <rect x=\"480\" y=\"0\" width=\"1681\" height=\"1600\"/>\n  </clipPath>\n</defs>\n<path clip-path=\"url(#clip610)\" d=\"\nM147.478 1486.45 L2352.76 1486.45 L2352.76 47.2441 L147.478 47.2441  Z\n  \" fill=\"#ffffff\" fill-rule=\"evenodd\" fill-opacity=\"1\"/>\n<defs>\n  <clipPath id=\"clip612\">\n    <rect x=\"147\" y=\"47\" width=\"2206\" height=\"1440\"/>\n  </clipPath>\n</defs>\n<polyline clip-path=\"url(#clip612)\" style=\"stroke:#000000; stroke-linecap:butt; stroke-linejoin:round; stroke-width:2; stroke-opacity:0.1; fill:none\" points=\"\n  423.341,1486.45 423.341,47.2441 \n  \"/>\n<polyline clip-path=\"url(#clip612)\" style=\"stroke:#000000; stroke-linecap:butt; stroke-linejoin:round; stroke-width:2; stroke-opacity:0.1; fill:none\" points=\"\n  836.729,1486.45 836.729,47.2441 \n  \"/>\n<polyline clip-path=\"url(#clip612)\" style=\"stroke:#000000; stroke-linecap:butt; stroke-linejoin:round; stroke-width:2; stroke-opacity:0.1; fill:none\" points=\"\n  1250.12,1486.45 1250.12,47.2441 \n  \"/>\n<polyline clip-path=\"url(#clip612)\" style=\"stroke:#000000; stroke-linecap:butt; stroke-linejoin:round; stroke-width:2; stroke-opacity:0.1; fill:none\" points=\"\n  1663.5,1486.45 1663.5,47.2441 \n  \"/>\n<polyline clip-path=\"url(#clip612)\" style=\"stroke:#000000; stroke-linecap:butt; stroke-linejoin:round; stroke-width:2; stroke-opacity:0.1; fill:none\" points=\"\n  2076.89,1486.45 2076.89,47.2441 \n  \"/>\n<polyline clip-path=\"url(#clip610)\" style=\"stroke:#000000; stroke-linecap:butt; stroke-linejoin:round; stroke-width:4; stroke-opacity:1; fill:none\" points=\"\n  147.478,1486.45 2352.76,1486.45 \n  \"/>\n<polyline clip-path=\"url(#clip610)\" style=\"stroke:#000000; stroke-linecap:butt; stroke-linejoin:round; stroke-width:4; stroke-opacity:1; fill:none\" points=\"\n  423.341,1486.45 423.341,1467.55 \n  \"/>\n<polyline clip-path=\"url(#clip610)\" style=\"stroke:#000000; stroke-linecap:butt; stroke-linejoin:round; stroke-width:4; stroke-opacity:1; fill:none\" points=\"\n  836.729,1486.45 836.729,1467.55 \n  \"/>\n<polyline clip-path=\"url(#clip610)\" style=\"stroke:#000000; stroke-linecap:butt; stroke-linejoin:round; stroke-width:4; stroke-opacity:1; fill:none\" points=\"\n  1250.12,1486.45 1250.12,1467.55 \n  \"/>\n<polyline clip-path=\"url(#clip610)\" style=\"stroke:#000000; stroke-linecap:butt; stroke-linejoin:round; stroke-width:4; stroke-opacity:1; fill:none\" points=\"\n  1663.5,1486.45 1663.5,1467.55 \n  \"/>\n<polyline clip-path=\"url(#clip610)\" style=\"stroke:#000000; stroke-linecap:butt; stroke-linejoin:round; stroke-width:4; stroke-opacity:1; fill:none\" points=\"\n  2076.89,1486.45 2076.89,1467.55 \n  \"/>\n<path clip-path=\"url(#clip610)\" d=\"M393.283 1532.02 L422.959 1532.02 L422.959 1535.95 L393.283 1535.95 L393.283 1532.02 Z\" fill=\"#000000\" fill-rule=\"evenodd\" fill-opacity=\"1\" /><path clip-path=\"url(#clip610)\" d=\"M437.079 1544.91 L453.398 1544.91 L453.398 1548.85 L431.454 1548.85 L431.454 1544.91 Q434.116 1542.16 438.7 1537.53 Q443.306 1532.88 444.487 1531.53 Q446.732 1529.01 447.611 1527.27 Q448.514 1525.51 448.514 1523.82 Q448.514 1521.07 446.57 1519.33 Q444.649 1517.6 441.547 1517.6 Q439.348 1517.6 436.894 1518.36 Q434.463 1519.13 431.686 1520.68 L431.686 1515.95 Q434.51 1514.82 436.963 1514.24 Q439.417 1513.66 441.454 1513.66 Q446.824 1513.66 450.019 1516.35 Q453.213 1519.03 453.213 1523.52 Q453.213 1525.65 452.403 1527.57 Q451.616 1529.47 449.51 1532.07 Q448.931 1532.74 445.829 1535.95 Q442.727 1539.15 437.079 1544.91 Z\" fill=\"#000000\" fill-rule=\"evenodd\" fill-opacity=\"1\" /><path clip-path=\"url(#clip610)\" d=\"M806.486 1532.02 L836.162 1532.02 L836.162 1535.95 L806.486 1535.95 L806.486 1532.02 Z\" fill=\"#000000\" fill-rule=\"evenodd\" fill-opacity=\"1\" /><path clip-path=\"url(#clip610)\" d=\"M847.064 1544.91 L854.703 1544.91 L854.703 1518.55 L846.393 1520.21 L846.393 1515.95 L854.657 1514.29 L859.333 1514.29 L859.333 1544.91 L866.972 1544.91 L866.972 1548.85 L847.064 1548.85 L847.064 1544.91 Z\" fill=\"#000000\" fill-rule=\"evenodd\" fill-opacity=\"1\" /><path clip-path=\"url(#clip610)\" d=\"M1250.12 1517.37 Q1246.51 1517.37 1244.68 1520.93 Q1242.87 1524.47 1242.87 1531.6 Q1242.87 1538.71 1244.68 1542.27 Q1246.51 1545.82 1250.12 1545.82 Q1253.75 1545.82 1255.56 1542.27 Q1257.39 1538.71 1257.39 1531.6 Q1257.39 1524.47 1255.56 1520.93 Q1253.75 1517.37 1250.12 1517.37 M1250.12 1513.66 Q1255.93 1513.66 1258.98 1518.27 Q1262.06 1522.85 1262.06 1531.6 Q1262.06 1540.33 1258.98 1544.94 Q1255.93 1549.52 1250.12 1549.52 Q1244.31 1549.52 1241.23 1544.94 Q1238.17 1540.33 1238.17 1531.6 Q1238.17 1522.85 1241.23 1518.27 Q1244.31 1513.66 1250.12 1513.66 Z\" fill=\"#000000\" fill-rule=\"evenodd\" fill-opacity=\"1\" /><path clip-path=\"url(#clip610)\" d=\"M1653.89 1544.91 L1661.53 1544.91 L1661.53 1518.55 L1653.22 1520.21 L1653.22 1515.95 L1661.48 1514.29 L1666.16 1514.29 L1666.16 1544.91 L1673.79 1544.91 L1673.79 1548.85 L1653.89 1548.85 L1653.89 1544.91 Z\" fill=\"#000000\" fill-rule=\"evenodd\" fill-opacity=\"1\" /><path clip-path=\"url(#clip610)\" d=\"M2071.55 1544.91 L2087.87 1544.91 L2087.87 1548.85 L2065.92 1548.85 L2065.92 1544.91 Q2068.58 1542.16 2073.17 1537.53 Q2077.77 1532.88 2078.95 1531.53 Q2081.2 1529.01 2082.08 1527.27 Q2082.98 1525.51 2082.98 1523.82 Q2082.98 1521.07 2081.04 1519.33 Q2079.12 1517.6 2076.01 1517.6 Q2073.81 1517.6 2071.36 1518.36 Q2068.93 1519.13 2066.15 1520.68 L2066.15 1515.95 Q2068.98 1514.82 2071.43 1514.24 Q2073.88 1513.66 2075.92 1513.66 Q2081.29 1513.66 2084.49 1516.35 Q2087.68 1519.03 2087.68 1523.52 Q2087.68 1525.65 2086.87 1527.57 Q2086.08 1529.47 2083.98 1532.07 Q2083.4 1532.74 2080.3 1535.95 Q2077.19 1539.15 2071.55 1544.91 Z\" fill=\"#000000\" fill-rule=\"evenodd\" fill-opacity=\"1\" /><polyline clip-path=\"url(#clip612)\" style=\"stroke:#000000; stroke-linecap:butt; stroke-linejoin:round; stroke-width:2; stroke-opacity:0.1; fill:none\" points=\"\n  147.478,1309.94 2352.76,1309.94 \n  \"/>\n<polyline clip-path=\"url(#clip612)\" style=\"stroke:#000000; stroke-linecap:butt; stroke-linejoin:round; stroke-width:2; stroke-opacity:0.1; fill:none\" points=\"\n  147.478,1038.39 2352.76,1038.39 \n  \"/>\n<polyline clip-path=\"url(#clip612)\" style=\"stroke:#000000; stroke-linecap:butt; stroke-linejoin:round; stroke-width:2; stroke-opacity:0.1; fill:none\" points=\"\n  147.478,766.846 2352.76,766.846 \n  \"/>\n<polyline clip-path=\"url(#clip612)\" style=\"stroke:#000000; stroke-linecap:butt; stroke-linejoin:round; stroke-width:2; stroke-opacity:0.1; fill:none\" points=\"\n  147.478,495.298 2352.76,495.298 \n  \"/>\n<polyline clip-path=\"url(#clip612)\" style=\"stroke:#000000; stroke-linecap:butt; stroke-linejoin:round; stroke-width:2; stroke-opacity:0.1; fill:none\" points=\"\n  147.478,223.75 2352.76,223.75 \n  \"/>\n<polyline clip-path=\"url(#clip610)\" style=\"stroke:#000000; stroke-linecap:butt; stroke-linejoin:round; stroke-width:4; stroke-opacity:1; fill:none\" points=\"\n  147.478,1486.45 147.478,47.2441 \n  \"/>\n<polyline clip-path=\"url(#clip610)\" style=\"stroke:#000000; stroke-linecap:butt; stroke-linejoin:round; stroke-width:4; stroke-opacity:1; fill:none\" points=\"\n  147.478,1309.94 166.376,1309.94 \n  \"/>\n<polyline clip-path=\"url(#clip610)\" style=\"stroke:#000000; stroke-linecap:butt; stroke-linejoin:round; stroke-width:4; stroke-opacity:1; fill:none\" points=\"\n  147.478,1038.39 166.376,1038.39 \n  \"/>\n<polyline clip-path=\"url(#clip610)\" style=\"stroke:#000000; stroke-linecap:butt; stroke-linejoin:round; stroke-width:4; stroke-opacity:1; fill:none\" points=\"\n  147.478,766.846 166.376,766.846 \n  \"/>\n<polyline clip-path=\"url(#clip610)\" style=\"stroke:#000000; stroke-linecap:butt; stroke-linejoin:round; stroke-width:4; stroke-opacity:1; fill:none\" points=\"\n  147.478,495.298 166.376,495.298 \n  \"/>\n<polyline clip-path=\"url(#clip610)\" style=\"stroke:#000000; stroke-linecap:butt; stroke-linejoin:round; stroke-width:4; stroke-opacity:1; fill:none\" points=\"\n  147.478,223.75 166.376,223.75 \n  \"/>\n<path clip-path=\"url(#clip610)\" d=\"M51.3625 1310.39 L81.0383 1310.39 L81.0383 1314.33 L51.3625 1314.33 L51.3625 1310.39 Z\" fill=\"#000000\" fill-rule=\"evenodd\" fill-opacity=\"1\" /><path clip-path=\"url(#clip610)\" d=\"M95.1586 1323.29 L111.478 1323.29 L111.478 1327.22 L89.5336 1327.22 L89.5336 1323.29 Q92.1956 1320.53 96.7789 1315.9 Q101.385 1311.25 102.566 1309.91 Q104.811 1307.38 105.691 1305.65 Q106.594 1303.89 106.594 1302.2 Q106.594 1299.44 104.649 1297.71 Q102.728 1295.97 99.6261 1295.97 Q97.4271 1295.97 94.9734 1296.74 Q92.5428 1297.5 89.7651 1299.05 L89.7651 1294.33 Q92.5891 1293.19 95.0428 1292.62 Q97.4965 1292.04 99.5335 1292.04 Q104.904 1292.04 108.098 1294.72 Q111.293 1297.41 111.293 1301.9 Q111.293 1304.03 110.483 1305.95 Q109.696 1307.85 107.589 1310.44 Q107.01 1311.11 103.909 1314.33 Q100.807 1317.52 95.1586 1323.29 Z\" fill=\"#000000\" fill-rule=\"evenodd\" fill-opacity=\"1\" /><path clip-path=\"url(#clip610)\" d=\"M50.9921 1038.85 L80.6679 1038.85 L80.6679 1042.78 L50.9921 1042.78 L50.9921 1038.85 Z\" fill=\"#000000\" fill-rule=\"evenodd\" fill-opacity=\"1\" /><path clip-path=\"url(#clip610)\" d=\"M91.5706 1051.74 L99.2095 1051.74 L99.2095 1025.37 L90.8993 1027.04 L90.8993 1022.78 L99.1632 1021.11 L103.839 1021.11 L103.839 1051.74 L111.478 1051.74 L111.478 1055.67 L91.5706 1055.67 L91.5706 1051.74 Z\" fill=\"#000000\" fill-rule=\"evenodd\" fill-opacity=\"1\" /><path clip-path=\"url(#clip610)\" d=\"M99.5335 752.645 Q95.9224 752.645 94.0937 756.209 Q92.2882 759.751 92.2882 766.881 Q92.2882 773.987 94.0937 777.552 Q95.9224 781.094 99.5335 781.094 Q103.168 781.094 104.973 777.552 Q106.802 773.987 106.802 766.881 Q106.802 759.751 104.973 756.209 Q103.168 752.645 99.5335 752.645 M99.5335 748.941 Q105.344 748.941 108.399 753.547 Q111.478 758.131 111.478 766.881 Q111.478 775.608 108.399 780.214 Q105.344 784.797 99.5335 784.797 Q93.7234 784.797 90.6447 780.214 Q87.5892 775.608 87.5892 766.881 Q87.5892 758.131 90.6447 753.547 Q93.7234 748.941 99.5335 748.941 Z\" fill=\"#000000\" fill-rule=\"evenodd\" fill-opacity=\"1\" /><path clip-path=\"url(#clip610)\" d=\"M91.5706 508.643 L99.2095 508.643 L99.2095 482.277 L90.8993 483.944 L90.8993 479.685 L99.1632 478.018 L103.839 478.018 L103.839 508.643 L111.478 508.643 L111.478 512.578 L91.5706 512.578 L91.5706 508.643 Z\" fill=\"#000000\" fill-rule=\"evenodd\" fill-opacity=\"1\" /><path clip-path=\"url(#clip610)\" d=\"M95.1586 237.095 L111.478 237.095 L111.478 241.03 L89.5336 241.03 L89.5336 237.095 Q92.1956 234.34 96.7789 229.711 Q101.385 225.058 102.566 223.715 Q104.811 221.192 105.691 219.456 Q106.594 217.697 106.594 216.007 Q106.594 213.253 104.649 211.516 Q102.728 209.78 99.6261 209.78 Q97.4271 209.78 94.9734 210.544 Q92.5428 211.308 89.7651 212.859 L89.7651 208.137 Q92.5891 207.003 95.0428 206.424 Q97.4965 205.845 99.5335 205.845 Q104.904 205.845 108.098 208.53 Q111.293 211.216 111.293 215.706 Q111.293 217.836 110.483 219.757 Q109.696 221.655 107.589 224.248 Q107.01 224.919 103.909 228.137 Q100.807 231.331 95.1586 237.095 Z\" fill=\"#000000\" fill-rule=\"evenodd\" fill-opacity=\"1\" /><path clip-path=\"url(#clip612)\" d=\"\nM209.891 631.072 L209.891 87.9763 L1036.67 87.9763 L1315.25 265.08 L1868.82 624.012 L1964.56 687.24 L2151.08 810.515 L2187.69 834.727 L2249.35 875.505 L2290.34 902.62 \n  L2290.34 1445.72 L1463.57 1445.72 L1184.98 1268.61 L631.415 909.68 L535.677 846.452 L349.151 723.177 L312.542 698.965 L250.887 658.187 L209.891 631.072 L209.891 631.072 \n   Z\n  \" fill=\"#009af9\" fill-rule=\"evenodd\" fill-opacity=\"1\"/>\n<polyline clip-path=\"url(#clip612)\" style=\"stroke:#000000; stroke-linecap:butt; stroke-linejoin:round; stroke-width:4; stroke-opacity:1; fill:none\" points=\"\n  209.891,631.072 209.891,87.9763 1036.67,87.9763 1315.25,265.08 1868.82,624.012 1964.56,687.24 2151.08,810.515 2187.69,834.727 2249.35,875.505 2290.34,902.62 \n  2290.34,1445.72 1463.57,1445.72 1184.98,1268.61 631.415,909.68 535.677,846.452 349.151,723.177 312.542,698.965 250.887,658.187 209.891,631.072 \n  \n  \"/>\n<path clip-path=\"url(#clip612)\" d=\"\nM209.891 631.072 L209.891 87.9763 L1036.67 87.9763 L1315.25 265.08 L1868.82 624.012 L1964.56 687.24 L2151.08 810.515 L2187.69 834.727 L2249.35 875.505 L2290.34 902.62 \n  L2290.34 1445.72 L1463.57 1445.72 L1184.98 1268.61 L631.415 909.68 L535.677 846.452 L349.151 723.177 L312.542 698.965 L250.887 658.187 L209.891 631.072 L209.891 631.072 \n   Z\n  \" fill=\"#e26f46\" fill-rule=\"evenodd\" fill-opacity=\"1\"/>\n<polyline clip-path=\"url(#clip612)\" style=\"stroke:#000000; stroke-linecap:butt; stroke-linejoin:round; stroke-width:4; stroke-opacity:1; fill:none\" points=\"\n  209.891,631.072 209.891,87.9763 1036.67,87.9763 1315.25,265.08 1868.82,624.012 1964.56,687.24 2151.08,810.515 2187.69,834.727 2249.35,875.505 2290.34,902.62 \n  2290.34,1445.72 1463.57,1445.72 1184.98,1268.61 631.415,909.68 535.677,846.452 349.151,723.177 312.542,698.965 250.887,658.187 209.891,631.072 \n  \n  \"/>\n<path clip-path=\"url(#clip612)\" d=\"\nM209.891 631.072 L209.891 87.9763 L1036.67 87.9763 L1315.25 265.08 L1868.82 624.012 L1964.56 687.24 L2151.08 810.515 L2187.69 834.727 L2249.35 875.505 L2290.34 902.62 \n  L2290.34 1445.72 L1463.57 1445.72 L1184.98 1268.61 L631.415 909.68 L535.677 846.452 L349.151 723.177 L312.542 698.965 L250.887 658.187 L209.891 631.072 L209.891 631.072 \n   Z\n  \" fill=\"#3da44d\" fill-rule=\"evenodd\" fill-opacity=\"1\"/>\n<polyline clip-path=\"url(#clip612)\" style=\"stroke:#000000; stroke-linecap:butt; stroke-linejoin:round; stroke-width:4; stroke-opacity:1; fill:none\" points=\"\n  209.891,631.072 209.891,87.9763 1036.67,87.9763 1315.25,265.08 1868.82,624.012 1964.56,687.24 2151.08,810.515 2187.69,834.727 2249.35,875.505 2290.34,902.62 \n  2290.34,1445.72 1463.57,1445.72 1184.98,1268.61 631.415,909.68 535.677,846.452 349.151,723.177 312.542,698.965 250.887,658.187 209.891,631.072 \n  \n  \"/>\n<path clip-path=\"url(#clip612)\" d=\"\nM209.891 631.072 L209.891 87.9763 L1036.67 87.9763 L1315.25 265.08 L1868.82 624.012 L1964.56 687.24 L2151.08 810.515 L2187.69 834.727 L2249.35 875.505 L2290.34 902.62 \n  L2290.34 1445.72 L1463.57 1445.72 L1184.98 1268.61 L631.415 909.68 L535.677 846.452 L349.151 723.177 L312.542 698.965 L250.887 658.187 L209.891 631.072 L209.891 631.072 \n   Z\n  \" fill=\"#c271d2\" fill-rule=\"evenodd\" fill-opacity=\"1\"/>\n<polyline clip-path=\"url(#clip612)\" style=\"stroke:#000000; stroke-linecap:butt; stroke-linejoin:round; stroke-width:4; stroke-opacity:1; fill:none\" points=\"\n  209.891,631.072 209.891,87.9763 1036.67,87.9763 1315.25,265.08 1868.82,624.012 1964.56,687.24 2151.08,810.515 2187.69,834.727 2249.35,875.505 2290.34,902.62 \n  2290.34,1445.72 1463.57,1445.72 1184.98,1268.61 631.415,909.68 535.677,846.452 349.151,723.177 312.542,698.965 250.887,658.187 209.891,631.072 \n  \n  \"/>\n<path clip-path=\"url(#clip612)\" d=\"\nM209.891 631.072 L209.891 87.9763 L1036.67 87.9763 L1315.25 265.08 L1868.82 624.012 L1964.56 687.24 L2151.08 810.515 L2187.69 834.727 L2249.35 875.505 L2290.34 902.62 \n  L2290.34 1445.72 L1463.57 1445.72 L1184.98 1268.61 L631.415 909.68 L535.677 846.452 L349.151 723.177 L312.542 698.965 L250.887 658.187 L209.891 631.072 L209.891 631.072 \n   Z\n  \" fill=\"#ac8d18\" fill-rule=\"evenodd\" fill-opacity=\"1\"/>\n<polyline clip-path=\"url(#clip612)\" style=\"stroke:#000000; stroke-linecap:butt; stroke-linejoin:round; stroke-width:4; stroke-opacity:1; fill:none\" points=\"\n  209.891,631.072 209.891,87.9763 1036.67,87.9763 1315.25,265.08 1868.82,624.012 1964.56,687.24 2151.08,810.515 2187.69,834.727 2249.35,875.505 2290.34,902.62 \n  2290.34,1445.72 1463.57,1445.72 1184.98,1268.61 631.415,909.68 535.677,846.452 349.151,723.177 312.542,698.965 250.887,658.187 209.891,631.072 \n  \n  \"/>\n<path clip-path=\"url(#clip612)\" d=\"\nM209.892 631.072 L209.892 87.9764 L1036.67 87.9764 L1315.25 265.08 L1868.82 624.012 L1964.56 687.24 L2151.08 810.515 L2187.69 834.727 L2249.35 875.505 L2290.34 902.62 \n  L2290.34 1445.72 L1463.57 1445.72 L1184.98 1268.61 L631.416 909.68 L535.677 846.452 L349.151 723.177 L312.542 698.965 L250.888 658.187 L209.892 631.072 L209.892 631.072 \n   Z\n  \" fill=\"#00a9ad\" fill-rule=\"evenodd\" fill-opacity=\"1\"/>\n<polyline clip-path=\"url(#clip612)\" style=\"stroke:#000000; stroke-linecap:butt; stroke-linejoin:round; stroke-width:4; stroke-opacity:1; fill:none\" points=\"\n  209.892,631.072 209.892,87.9764 1036.67,87.9764 1315.25,265.08 1868.82,624.012 1964.56,687.24 2151.08,810.515 2187.69,834.727 2249.35,875.505 2290.34,902.62 \n  2290.34,1445.72 1463.57,1445.72 1184.98,1268.61 631.416,909.68 535.677,846.452 349.151,723.177 312.542,698.965 250.888,658.187 209.892,631.072 \n  \n  \"/>\n<path clip-path=\"url(#clip612)\" d=\"\nM209.892 631.072 L209.892 87.9765 L1036.67 87.9765 L1315.25 265.08 L1868.82 624.012 L1964.56 687.24 L2151.08 810.515 L2187.69 834.727 L2249.35 875.505 L2290.34 902.62 \n  L2290.34 1445.72 L1463.57 1445.72 L1184.98 1268.61 L631.416 909.68 L535.678 846.452 L349.151 723.177 L312.542 698.965 L250.888 658.187 L209.892 631.072 L209.892 631.072 \n   Z\n  \" fill=\"#ed5d92\" fill-rule=\"evenodd\" fill-opacity=\"1\"/>\n<polyline clip-path=\"url(#clip612)\" style=\"stroke:#000000; stroke-linecap:butt; stroke-linejoin:round; stroke-width:4; stroke-opacity:1; fill:none\" points=\"\n  209.892,631.072 209.892,87.9765 1036.67,87.9765 1315.25,265.08 1868.82,624.012 1964.56,687.24 2151.08,810.515 2187.69,834.727 2249.35,875.505 2290.34,902.62 \n  2290.34,1445.72 1463.57,1445.72 1184.98,1268.61 631.416,909.68 535.678,846.452 349.151,723.177 312.542,698.965 250.888,658.187 209.892,631.072 \n  \n  \"/>\n<path clip-path=\"url(#clip612)\" d=\"\nM209.893 631.073 L209.893 87.977 L1036.67 87.977 L1315.25 265.081 L1868.82 624.013 L1964.56 687.239 L2151.08 810.514 L2187.69 834.727 L2249.35 875.504 L2290.34 902.619 \n  L2290.34 1445.71 L1463.57 1445.71 L1184.98 1268.61 L631.415 909.679 L535.678 846.453 L349.152 723.178 L312.543 698.965 L250.888 658.188 L209.893 631.073 L209.893 631.073 \n   Z\n  \" fill=\"#c68125\" fill-rule=\"evenodd\" fill-opacity=\"1\"/>\n<polyline clip-path=\"url(#clip612)\" style=\"stroke:#000000; stroke-linecap:butt; stroke-linejoin:round; stroke-width:4; stroke-opacity:1; fill:none\" points=\"\n  209.893,631.073 209.893,87.977 1036.67,87.977 1315.25,265.081 1868.82,624.013 1964.56,687.239 2151.08,810.514 2187.69,834.727 2249.35,875.504 2290.34,902.619 \n  2290.34,1445.71 1463.57,1445.71 1184.98,1268.61 631.415,909.679 535.678,846.453 349.152,723.178 312.543,698.965 250.888,658.188 209.893,631.073 \n  \n  \"/>\n<path clip-path=\"url(#clip612)\" d=\"\nM209.895 631.074 L209.895 87.9784 L1036.67 87.9784 L1315.25 265.082 L1868.82 624.014 L1964.55 687.238 L2151.08 810.513 L2187.69 834.725 L2249.34 875.503 L2290.34 902.618 \n  L2290.34 1445.71 L1463.56 1445.71 L1184.98 1268.61 L631.413 909.678 L535.681 846.454 L349.154 723.179 L312.545 698.967 L250.891 658.189 L209.895 631.074 L209.895 631.074 \n   Z\n  \" fill=\"#00a98d\" fill-rule=\"evenodd\" fill-opacity=\"1\"/>\n<polyline clip-path=\"url(#clip612)\" style=\"stroke:#000000; stroke-linecap:butt; stroke-linejoin:round; stroke-width:4; stroke-opacity:1; fill:none\" points=\"\n  209.895,631.074 209.895,87.9784 1036.67,87.9784 1315.25,265.082 1868.82,624.014 1964.55,687.238 2151.08,810.513 2187.69,834.725 2249.34,875.503 2290.34,902.618 \n  2290.34,1445.71 1463.56,1445.71 1184.98,1268.61 631.413,909.678 535.681,846.454 349.154,723.179 312.545,698.967 250.891,658.189 209.895,631.074 \n  \n  \"/>\n<path clip-path=\"url(#clip612)\" d=\"\nM209.901 631.079 L209.901 87.9828 L1036.68 87.9828 L1315.26 265.086 L1868.83 624.018 L1964.55 687.233 L2151.07 810.509 L2187.68 834.721 L2249.34 875.498 L2290.33 902.613 \n  L2290.33 1445.71 L1463.56 1445.71 L1184.97 1268.61 L631.406 909.674 L535.687 846.459 L349.161 723.183 L312.552 698.971 L250.897 658.194 L209.901 631.079 L209.901 631.079 \n   Z\n  \" fill=\"#8e971d\" fill-rule=\"evenodd\" fill-opacity=\"1\"/>\n<polyline clip-path=\"url(#clip612)\" style=\"stroke:#000000; stroke-linecap:butt; stroke-linejoin:round; stroke-width:4; stroke-opacity:1; fill:none\" points=\"\n  209.901,631.079 209.901,87.9828 1036.68,87.9828 1315.26,265.086 1868.83,624.018 1964.55,687.233 2151.07,810.509 2187.68,834.721 2249.34,875.498 2290.33,902.613 \n  2290.33,1445.71 1463.56,1445.71 1184.97,1268.61 631.406,909.674 535.687,846.459 349.161,723.183 312.552,698.971 250.897,658.194 209.901,631.079 \n  \n  \"/>\n<path clip-path=\"url(#clip612)\" d=\"\nM209.921 631.092 L209.921 87.996 L1036.7 87.996 L1315.28 265.1 L1868.85 624.032 L1964.53 687.22 L2151.05 810.495 L2187.66 834.708 L2249.32 875.485 L2290.31 902.6 \n  L2290.31 1445.7 L1463.54 1445.7 L1184.95 1268.59 L631.386 909.66 L535.707 846.472 L349.181 723.197 L312.572 698.984 L250.917 658.207 L209.921 631.092 L209.921 631.092 \n   Z\n  \" fill=\"#00a8cb\" fill-rule=\"evenodd\" fill-opacity=\"1\"/>\n<polyline clip-path=\"url(#clip612)\" style=\"stroke:#000000; stroke-linecap:butt; stroke-linejoin:round; stroke-width:4; stroke-opacity:1; fill:none\" points=\"\n  209.921,631.092 209.921,87.996 1036.7,87.996 1315.28,265.1 1868.85,624.032 1964.53,687.22 2151.05,810.495 2187.66,834.708 2249.32,875.485 2290.31,902.6 \n  2290.31,1445.7 1463.54,1445.7 1184.95,1268.59 631.386,909.66 535.707,846.472 349.181,723.197 312.572,698.984 250.917,658.207 209.921,631.092 \n  \n  \"/>\n<path clip-path=\"url(#clip612)\" d=\"\nM209.982 631.132 L209.982 88.0361 L1036.76 88.0361 L1315.34 265.14 L1868.91 624.072 L1964.59 687.26 L2151.11 810.535 L2187.6 834.668 L2249.26 875.445 L2290.25 902.56 \n  L2290.25 1445.66 L1463.48 1445.66 L1184.89 1268.55 L631.326 909.62 L535.647 846.432 L349.12 723.156 L312.632 699.024 L250.978 658.247 L209.982 631.132 L209.982 631.132 \n   Z\n  \" fill=\"#9b7fe8\" fill-rule=\"evenodd\" fill-opacity=\"1\"/>\n<polyline clip-path=\"url(#clip612)\" style=\"stroke:#000000; stroke-linecap:butt; stroke-linejoin:round; stroke-width:4; stroke-opacity:1; fill:none\" points=\"\n  209.982,631.132 209.982,88.0361 1036.76,88.0361 1315.34,265.14 1868.91,624.072 1964.59,687.26 2151.11,810.535 2187.6,834.668 2249.26,875.445 2290.25,902.56 \n  2290.25,1445.66 1463.48,1445.66 1184.89,1268.55 631.326,909.62 535.647,846.432 349.12,723.156 312.632,699.024 250.978,658.247 209.982,631.132 \n  \n  \"/>\n<path clip-path=\"url(#clip612)\" d=\"\nM210.165 631.253 L210.165 88.1574 L1036.94 88.1574 L1315.52 265.261 L1869.09 624.193 L1964.77 687.382 L2151.3 810.657 L2187.42 834.546 L2249.07 875.324 L2290.07 902.439 \n  L2290.07 1445.53 L1463.29 1445.53 L1184.71 1268.43 L631.142 909.499 L535.463 846.31 L348.937 723.035 L312.816 699.146 L251.161 658.368 L210.165 631.253 L210.165 631.253 \n   Z\n  \" fill=\"#608cf6\" fill-rule=\"evenodd\" fill-opacity=\"1\"/>\n<polyline clip-path=\"url(#clip612)\" style=\"stroke:#000000; stroke-linecap:butt; stroke-linejoin:round; stroke-width:4; stroke-opacity:1; fill:none\" points=\"\n  210.165,631.253 210.165,88.1574 1036.94,88.1574 1315.52,265.261 1869.09,624.193 1964.77,687.382 2151.3,810.657 2187.42,834.546 2249.07,875.324 2290.07,902.439 \n  2290.07,1445.53 1463.29,1445.53 1184.71,1268.43 631.142,909.499 535.463,846.31 348.937,723.035 312.816,699.146 251.161,658.368 210.165,631.253 \n  \n  \"/>\n<path clip-path=\"url(#clip612)\" d=\"\nM210.72 631.62 L210.72 88.5245 L1037.5 88.5245 L1316.08 265.628 L1869.65 624.56 L1965.33 687.749 L2151.85 811.024 L2186.86 834.179 L2248.52 874.957 L2289.51 902.072 \n  L2289.51 1445.17 L1462.74 1445.17 L1184.16 1268.06 L630.587 909.132 L534.908 845.943 L348.382 722.668 L313.371 699.513 L251.716 658.735 L210.72 631.62 L210.72 631.62 \n   Z\n  \" fill=\"#f05f73\" fill-rule=\"evenodd\" fill-opacity=\"1\"/>\n<polyline clip-path=\"url(#clip612)\" style=\"stroke:#000000; stroke-linecap:butt; stroke-linejoin:round; stroke-width:4; stroke-opacity:1; fill:none\" points=\"\n  210.72,631.62 210.72,88.5245 1037.5,88.5245 1316.08,265.628 1869.65,624.56 1965.33,687.749 2151.85,811.024 2186.86,834.179 2248.52,874.957 2289.51,902.072 \n  2289.51,1445.17 1462.74,1445.17 1184.16,1268.06 630.587,909.132 534.908,845.943 348.382,722.668 313.371,699.513 251.716,658.735 210.72,631.62 \n  \n  \"/>\n<path clip-path=\"url(#clip612)\" d=\"\nM212.401 632.732 L212.401 89.6363 L1039.18 89.6363 L1317.76 266.74 L1871.33 625.672 L1967.01 688.86 L2153.53 812.136 L2185.18 833.067 L2246.84 873.845 L2287.83 900.96 \n  L2287.83 1444.06 L1461.06 1444.06 L1182.47 1266.95 L628.906 908.02 L533.227 844.832 L346.701 721.556 L315.052 700.625 L253.397 659.847 L212.401 632.732 L212.401 632.732 \n   Z\n  \" fill=\"#dd64b5\" fill-rule=\"evenodd\" fill-opacity=\"1\"/>\n<polyline clip-path=\"url(#clip612)\" style=\"stroke:#000000; stroke-linecap:butt; stroke-linejoin:round; stroke-width:4; stroke-opacity:1; fill:none\" points=\"\n  212.401,632.732 212.401,89.6363 1039.18,89.6363 1317.76,266.74 1871.33,625.672 1967.01,688.86 2153.53,812.136 2185.18,833.067 2246.84,873.845 2287.83,900.96 \n  2287.83,1444.06 1461.06,1444.06 1182.47,1266.95 628.906,908.02 533.227,844.832 346.701,721.556 315.052,700.625 253.397,659.847 212.401,632.732 \n  \n  \"/>\n<path clip-path=\"url(#clip612)\" d=\"\nM217.49 636.098 L217.49 93.0023 L1044.27 93.0023 L1322.85 270.106 L1876.42 629.038 L1972.1 692.227 L2158.62 815.502 L2190.27 836.433 L2251.93 877.211 L2282.74 897.594 \n  L2282.74 1440.69 L1455.97 1440.69 L1177.39 1263.59 L623.817 904.654 L528.138 841.465 L341.612 718.19 L309.962 697.259 L248.308 656.481 L217.49 636.098 L217.49 636.098 \n   Z\n  \" fill=\"#6b9e32\" fill-rule=\"evenodd\" fill-opacity=\"1\"/>\n<polyline clip-path=\"url(#clip612)\" style=\"stroke:#000000; stroke-linecap:butt; stroke-linejoin:round; stroke-width:4; stroke-opacity:1; fill:none\" points=\"\n  217.49,636.098 217.49,93.0023 1044.27,93.0023 1322.85,270.106 1876.42,629.038 1972.1,692.227 2158.62,815.502 2190.27,836.433 2251.93,877.211 2282.74,897.594 \n  2282.74,1440.69 1455.97,1440.69 1177.39,1263.59 623.817,904.654 528.138,841.465 341.612,718.19 309.962,697.259 248.308,656.481 217.49,636.098 \n  \n  \"/>\n<path clip-path=\"url(#clip612)\" d=\"\nM232.899 646.29 L232.899 103.194 L1059.68 103.194 L1338.26 280.297 L1891.83 639.229 L1987.5 702.418 L2174.03 825.693 L2205.68 846.625 L2267.33 887.402 L2267.33 1430.5 \n  L1440.56 1430.5 L1161.98 1253.39 L608.408 894.463 L512.729 831.274 L326.203 707.999 L294.554 687.067 L232.899 646.29 L232.899 646.29  Z\n  \" fill=\"#009af9\" fill-rule=\"evenodd\" fill-opacity=\"1\"/>\n<polyline clip-path=\"url(#clip612)\" style=\"stroke:#000000; stroke-linecap:butt; stroke-linejoin:round; stroke-width:4; stroke-opacity:1; fill:none\" points=\"\n  232.899,646.29 232.899,103.194 1059.68,103.194 1338.26,280.297 1891.83,639.229 1987.5,702.418 2174.03,825.693 2205.68,846.625 2267.33,887.402 2267.33,1430.5 \n  1440.56,1430.5 1161.98,1253.39 608.408,894.463 512.729,831.274 326.203,707.999 294.554,687.067 232.899,646.29 \n  \"/>\n<path clip-path=\"url(#clip612)\" d=\"\nM279.551 677.144 L279.551 134.048 L1106.33 134.048 L1384.91 311.152 L1938.48 670.084 L2034.16 733.273 L2220.68 856.548 L2220.68 1399.64 L1393.91 1399.64 L1115.32 1222.54 \n  L561.757 863.608 L466.077 800.419 L279.551 677.144 L279.551 677.144  Z\n  \" fill=\"#e26f46\" fill-rule=\"evenodd\" fill-opacity=\"1\"/>\n<polyline clip-path=\"url(#clip612)\" style=\"stroke:#000000; stroke-linecap:butt; stroke-linejoin:round; stroke-width:4; stroke-opacity:1; fill:none\" points=\"\n  279.551,677.144 279.551,134.048 1106.33,134.048 1384.91,311.152 1938.48,670.084 2034.16,733.273 2220.68,856.548 2220.68,1399.64 1393.91,1399.64 1115.32,1222.54 \n  561.757,863.608 466.077,800.419 279.551,677.144 \n  \"/>\n<path clip-path=\"url(#clip612)\" d=\"\nM420.654 770.376 L420.654 227.28 L1247.43 227.28 L1526.01 404.384 L2079.58 763.316 L2079.58 1306.41 L1252.8 1306.41 L974.222 1129.31 L420.654 770.376 L420.654 770.376 \n   Z\n  \" fill=\"#3da44d\" fill-rule=\"evenodd\" fill-opacity=\"1\"/>\n<polyline clip-path=\"url(#clip612)\" style=\"stroke:#000000; stroke-linecap:butt; stroke-linejoin:round; stroke-width:4; stroke-opacity:1; fill:none\" points=\"\n  420.654,770.376 420.654,227.28 1247.43,227.28 1526.01,404.384 2079.58,763.316 2079.58,1306.41 1252.8,1306.41 974.222,1129.31 420.654,770.376 \n  \n  \"/>\n<path clip-path=\"url(#clip612)\" d=\"\nM836.729 1038.39 L836.729 495.298 L1663.5 495.298 L1663.5 1038.39 L836.729 1038.39 L836.729 1038.39  Z\n  \" fill=\"#c271d2\" fill-rule=\"evenodd\" fill-opacity=\"1\"/>\n<polyline clip-path=\"url(#clip612)\" style=\"stroke:#000000; stroke-linecap:butt; stroke-linejoin:round; stroke-width:4; stroke-opacity:1; fill:none\" points=\"\n  836.729,1038.39 836.729,495.298 1663.5,495.298 1663.5,1038.39 836.729,1038.39 \n  \"/>\n</svg>\n"
     },
     "execution_count": 5,
     "metadata": {},
     "output_type": "execute_result"
    }
   ],
   "source": [
    "# run to visualize the polygon\n",
    "plot()\n",
    "for i in 20:-1:1\n",
    "    plot!(Fs(i, 0))\n",
    "end\n",
    "plot!()"
   ]
  }
 ],
 "metadata": {
  "kernelspec": {
   "display_name": "Julia 1.6.3",
   "language": "julia",
   "name": "julia-1.6"
  },
  "language_info": {
   "file_extension": ".jl",
   "mimetype": "application/julia",
   "name": "julia",
   "version": "1.6.3"
  },
  "orig_nbformat": 4
 },
 "nbformat": 4,
 "nbformat_minor": 2
}
